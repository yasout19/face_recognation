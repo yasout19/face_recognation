{
 "cells": [
  {
   "cell_type": "code",
   "execution_count": 49,
   "metadata": {},
   "outputs": [],
   "source": [
    "import os,csv\n",
    "import numpy as np\n",
    "import tensorflow as tf\n",
    "import keras\n",
    "from mtcnn import MTCNN\n",
    "from numpy import asarray\n",
    "import matplotlib.pyplot as plt\n",
    "\n",
    "from keras_vggface.vggface import VGGFace\n",
    "from keras_vggface.utils import preprocess_input\n",
    "from PIL import Image\n",
    "import hashlib\n",
    "from flask import Flask, request, jsonify\n",
    "import io\n",
    "import threading\n",
    "from skimage.filters import threshold_otsu\n"
   ]
  },
  {
   "cell_type": "code",
   "execution_count": 50,
   "metadata": {},
   "outputs": [],
   "source": [
    "app = Flask(__name__)\n",
    "\n",
    "def extract_face(pixels, required_size=(224, 224)):\n",
    "\n",
    "    detector = MTCNN()\n",
    "\t\n",
    "    results = detector.detect_faces(pixels)\n",
    "    x1, y1, width, height = results[0]['box']\n",
    "    x2, y2 = x1 + width, y1 + height\n",
    "\t\n",
    "    face = pixels[y1:y2, x1:x2]\n",
    "\t\n",
    "    image = Image.fromarray(face)\n",
    "    image = image.resize(required_size)\n",
    "    face_array = asarray(image)\n",
    "    face_array = face_array.astype('float32')\n",
    "    \n",
    "    img_array = np.expand_dims(face_array, axis=0)\n",
    "    img_array = preprocess_input(img_array, version=2)\n",
    "    \n",
    "    return img_array\n",
    "\n",
    "def hash_features(features, output_dim=64):\n",
    "    hasher = hashlib.sha256()\n",
    "    hasher.update(features.tobytes())\n",
    "    hash_digest = hasher.digest()\n",
    "    # To get 64 bytes, concatenate two hash digests\n",
    "    extended_hash = hash_digest + hashlib.sha256(hash_digest).digest()\n",
    "    \n",
    "    # Convert the extended hash to binary representation\n",
    "    binary_hash = ''.join(format(byte, '08b') for byte in extended_hash)\n",
    "    \n",
    "    # Ensure the output_dim does not exceed the length of the binary hash\n",
    "    binary_hash = binary_hash[:output_dim]\n",
    "    \n",
    "    # Convert the binary string to a numpy array of 0s and 1s\n",
    "    hash_array = np.array(list(binary_hash), dtype=int)\n",
    "    \n",
    "    return hash_array\n",
    "\n",
    "\n",
    "def extract_features(img):\n",
    "    img_array = extract_face(img)\n",
    "\n",
    "    # Charger le modèle SENet50 pré-entraîné\n",
    "    model = VGGFace(model='senet50', include_top=False, input_shape=(224, 224, 3), pooling='avg')\n",
    "\n",
    "    # Extraire les features de l'image\n",
    "    features = model.predict(img_array)\n",
    "    # hashed_features = hash_features(features, output_dim=64)\n",
    "    return features\n",
    "\n",
    "\n",
    "@app.route('/extract_features', methods=['POST'])\n",
    "def extract_features_route():\n",
    "    if 'image' not in request.files:\n",
    "        return jsonify({'error': 'No image part in the request'}), 400\n",
    "\n",
    "    file = request.files['image']\n",
    "\n",
    "    if file.filename == '':\n",
    "        return jsonify({'error': 'No selected file'}), 400\n",
    "\n",
    "    try:\n",
    "        image = Image.open(file.stream)\n",
    "        img=np.array(image)\n",
    "        features = extract_features(img)\n",
    "        return {\"features\": features.tolist()}\n",
    "    except Exception as e:\n",
    "        return jsonify({'error': str(e)}), 500"
   ]
  },
  {
   "cell_type": "code",
   "execution_count": 51,
   "metadata": {},
   "outputs": [
    {
     "name": "stdout",
     "output_type": "stream",
     "text": [
      " * Serving Flask app '__main__'\n",
      " * Debug mode: off\n"
     ]
    },
    {
     "name": "stderr",
     "output_type": "stream",
     "text": [
      "WARNING: This is a development server. Do not use it in a production deployment. Use a production WSGI server instead.\n",
      " * Running on http://127.0.0.1:5000\n",
      "Press CTRL+C to quit\n"
     ]
    }
   ],
   "source": [
    "def run_app():\n",
    "    app.run(debug=False, use_reloader=False)\n",
    "\n",
    "# Run Flask app in a separate thread\n",
    "thread = threading.Thread(target=run_app)\n",
    "thread.start()\n"
   ]
  }
 ],
 "metadata": {
  "kernelspec": {
   "display_name": "venv",
   "language": "python",
   "name": "python3"
  },
  "language_info": {
   "codemirror_mode": {
    "name": "ipython",
    "version": 3
   },
   "file_extension": ".py",
   "mimetype": "text/x-python",
   "name": "python",
   "nbconvert_exporter": "python",
   "pygments_lexer": "ipython3",
   "version": "3.9.0"
  }
 },
 "nbformat": 4,
 "nbformat_minor": 2
}
